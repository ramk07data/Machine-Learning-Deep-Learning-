{
 "cells": [
  {
   "cell_type": "code",
   "execution_count": 1,
   "id": "f819660f",
   "metadata": {
    "id": "f819660f"
   },
   "outputs": [],
   "source": [
    "import pandas as pd\n",
    "import numpy as np\n",
    "import seaborn as sns\n",
    "import matplotlib.pyplot as plt"
   ]
  },
  {
   "cell_type": "code",
   "execution_count": 2,
   "id": "c556c72c",
   "metadata": {
    "id": "c556c72c"
   },
   "outputs": [],
   "source": [
    "import warnings\n",
    "warnings.filterwarnings('ignore')"
   ]
  },
  {
   "cell_type": "code",
   "execution_count": 3,
   "id": "7dcfa1ae",
   "metadata": {
    "id": "7dcfa1ae"
   },
   "outputs": [],
   "source": [
    "data=pd.read_csv('TexasTurbine (2).csv')"
   ]
  },
  {
   "cell_type": "code",
   "execution_count": 4,
   "id": "63dcb57b",
   "metadata": {
    "id": "63dcb57b",
    "outputId": "54ea0ada-f873-40ad-9d06-a71f4365910d"
   },
   "outputs": [
    {
     "data": {
      "text/html": [
       "<div>\n",
       "<style scoped>\n",
       "    .dataframe tbody tr th:only-of-type {\n",
       "        vertical-align: middle;\n",
       "    }\n",
       "\n",
       "    .dataframe tbody tr th {\n",
       "        vertical-align: top;\n",
       "    }\n",
       "\n",
       "    .dataframe thead th {\n",
       "        text-align: right;\n",
       "    }\n",
       "</style>\n",
       "<table border=\"1\" class=\"dataframe\">\n",
       "  <thead>\n",
       "    <tr style=\"text-align: right;\">\n",
       "      <th></th>\n",
       "      <th>Time stamp</th>\n",
       "      <th>System power generated | (kW)</th>\n",
       "      <th>Wind speed | (m/s)</th>\n",
       "      <th>Wind direction | (deg)</th>\n",
       "      <th>Pressure | (atm)</th>\n",
       "      <th>Air temperature | ('C)</th>\n",
       "    </tr>\n",
       "  </thead>\n",
       "  <tbody>\n",
       "    <tr>\n",
       "      <th>0</th>\n",
       "      <td>Jan 1, 12:00 am</td>\n",
       "      <td>1766.64</td>\n",
       "      <td>9.926</td>\n",
       "      <td>128</td>\n",
       "      <td>1.000480</td>\n",
       "      <td>18.263</td>\n",
       "    </tr>\n",
       "    <tr>\n",
       "      <th>1</th>\n",
       "      <td>Jan 1, 01:00 am</td>\n",
       "      <td>1433.83</td>\n",
       "      <td>9.273</td>\n",
       "      <td>135</td>\n",
       "      <td>0.999790</td>\n",
       "      <td>18.363</td>\n",
       "    </tr>\n",
       "    <tr>\n",
       "      <th>2</th>\n",
       "      <td>Jan 1, 02:00 am</td>\n",
       "      <td>1167.23</td>\n",
       "      <td>8.660</td>\n",
       "      <td>142</td>\n",
       "      <td>0.999592</td>\n",
       "      <td>18.663</td>\n",
       "    </tr>\n",
       "    <tr>\n",
       "      <th>3</th>\n",
       "      <td>Jan 1, 03:00 am</td>\n",
       "      <td>1524.59</td>\n",
       "      <td>9.461</td>\n",
       "      <td>148</td>\n",
       "      <td>0.998309</td>\n",
       "      <td>18.763</td>\n",
       "    </tr>\n",
       "    <tr>\n",
       "      <th>4</th>\n",
       "      <td>Jan 1, 04:00 am</td>\n",
       "      <td>1384.28</td>\n",
       "      <td>9.184</td>\n",
       "      <td>150</td>\n",
       "      <td>0.998507</td>\n",
       "      <td>18.963</td>\n",
       "    </tr>\n",
       "    <tr>\n",
       "      <th>...</th>\n",
       "      <td>...</td>\n",
       "      <td>...</td>\n",
       "      <td>...</td>\n",
       "      <td>...</td>\n",
       "      <td>...</td>\n",
       "      <td>...</td>\n",
       "    </tr>\n",
       "    <tr>\n",
       "      <th>8755</th>\n",
       "      <td>Dec 31, 07:00 pm</td>\n",
       "      <td>1234.70</td>\n",
       "      <td>8.848</td>\n",
       "      <td>129</td>\n",
       "      <td>0.998604</td>\n",
       "      <td>19.663</td>\n",
       "    </tr>\n",
       "    <tr>\n",
       "      <th>8756</th>\n",
       "      <td>Dec 31, 08:00 pm</td>\n",
       "      <td>1105.37</td>\n",
       "      <td>8.502</td>\n",
       "      <td>118</td>\n",
       "      <td>1.000090</td>\n",
       "      <td>19.063</td>\n",
       "    </tr>\n",
       "    <tr>\n",
       "      <th>8757</th>\n",
       "      <td>Dec 31, 09:00 pm</td>\n",
       "      <td>1405.71</td>\n",
       "      <td>9.224</td>\n",
       "      <td>117</td>\n",
       "      <td>0.998408</td>\n",
       "      <td>18.463</td>\n",
       "    </tr>\n",
       "    <tr>\n",
       "      <th>8758</th>\n",
       "      <td>Dec 31, 10:00 pm</td>\n",
       "      <td>1221.36</td>\n",
       "      <td>8.799</td>\n",
       "      <td>116</td>\n",
       "      <td>0.998013</td>\n",
       "      <td>18.063</td>\n",
       "    </tr>\n",
       "    <tr>\n",
       "      <th>8759</th>\n",
       "      <td>Dec 31, 11:00 pm</td>\n",
       "      <td>1676.77</td>\n",
       "      <td>9.748</td>\n",
       "      <td>121</td>\n",
       "      <td>1.000380</td>\n",
       "      <td>18.163</td>\n",
       "    </tr>\n",
       "  </tbody>\n",
       "</table>\n",
       "<p>8760 rows × 6 columns</p>\n",
       "</div>"
      ],
      "text/plain": [
       "            Time stamp  System power generated | (kW)  Wind speed | (m/s)  \\\n",
       "0      Jan 1, 12:00 am                        1766.64               9.926   \n",
       "1      Jan 1, 01:00 am                        1433.83               9.273   \n",
       "2      Jan 1, 02:00 am                        1167.23               8.660   \n",
       "3      Jan 1, 03:00 am                        1524.59               9.461   \n",
       "4      Jan 1, 04:00 am                        1384.28               9.184   \n",
       "...                ...                            ...                 ...   \n",
       "8755  Dec 31, 07:00 pm                        1234.70               8.848   \n",
       "8756  Dec 31, 08:00 pm                        1105.37               8.502   \n",
       "8757  Dec 31, 09:00 pm                        1405.71               9.224   \n",
       "8758  Dec 31, 10:00 pm                        1221.36               8.799   \n",
       "8759  Dec 31, 11:00 pm                        1676.77               9.748   \n",
       "\n",
       "      Wind direction | (deg)  Pressure | (atm)  Air temperature | ('C)  \n",
       "0                        128          1.000480                  18.263  \n",
       "1                        135          0.999790                  18.363  \n",
       "2                        142          0.999592                  18.663  \n",
       "3                        148          0.998309                  18.763  \n",
       "4                        150          0.998507                  18.963  \n",
       "...                      ...               ...                     ...  \n",
       "8755                     129          0.998604                  19.663  \n",
       "8756                     118          1.000090                  19.063  \n",
       "8757                     117          0.998408                  18.463  \n",
       "8758                     116          0.998013                  18.063  \n",
       "8759                     121          1.000380                  18.163  \n",
       "\n",
       "[8760 rows x 6 columns]"
      ]
     },
     "execution_count": 4,
     "metadata": {},
     "output_type": "execute_result"
    }
   ],
   "source": [
    "data"
   ]
  },
  {
   "cell_type": "code",
   "execution_count": 5,
   "id": "0c0a0d9e",
   "metadata": {
    "id": "0c0a0d9e"
   },
   "outputs": [],
   "source": [
    "del data['Time stamp']"
   ]
  },
  {
   "cell_type": "code",
   "execution_count": 6,
   "id": "e54efa36",
   "metadata": {
    "colab": {
     "base_uri": "https://localhost:8080/",
     "height": 423
    },
    "id": "e54efa36",
    "outputId": "3cf5d8cd-b347-4e6e-c44a-ebc6f53bb978"
   },
   "outputs": [
    {
     "data": {
      "text/html": [
       "<div>\n",
       "<style scoped>\n",
       "    .dataframe tbody tr th:only-of-type {\n",
       "        vertical-align: middle;\n",
       "    }\n",
       "\n",
       "    .dataframe tbody tr th {\n",
       "        vertical-align: top;\n",
       "    }\n",
       "\n",
       "    .dataframe thead th {\n",
       "        text-align: right;\n",
       "    }\n",
       "</style>\n",
       "<table border=\"1\" class=\"dataframe\">\n",
       "  <thead>\n",
       "    <tr style=\"text-align: right;\">\n",
       "      <th></th>\n",
       "      <th>System power generated | (kW)</th>\n",
       "      <th>Wind speed | (m/s)</th>\n",
       "      <th>Wind direction | (deg)</th>\n",
       "      <th>Pressure | (atm)</th>\n",
       "      <th>Air temperature | ('C)</th>\n",
       "    </tr>\n",
       "  </thead>\n",
       "  <tbody>\n",
       "    <tr>\n",
       "      <th>0</th>\n",
       "      <td>1766.64</td>\n",
       "      <td>9.926</td>\n",
       "      <td>128</td>\n",
       "      <td>1.000480</td>\n",
       "      <td>18.263</td>\n",
       "    </tr>\n",
       "    <tr>\n",
       "      <th>1</th>\n",
       "      <td>1433.83</td>\n",
       "      <td>9.273</td>\n",
       "      <td>135</td>\n",
       "      <td>0.999790</td>\n",
       "      <td>18.363</td>\n",
       "    </tr>\n",
       "    <tr>\n",
       "      <th>2</th>\n",
       "      <td>1167.23</td>\n",
       "      <td>8.660</td>\n",
       "      <td>142</td>\n",
       "      <td>0.999592</td>\n",
       "      <td>18.663</td>\n",
       "    </tr>\n",
       "    <tr>\n",
       "      <th>3</th>\n",
       "      <td>1524.59</td>\n",
       "      <td>9.461</td>\n",
       "      <td>148</td>\n",
       "      <td>0.998309</td>\n",
       "      <td>18.763</td>\n",
       "    </tr>\n",
       "    <tr>\n",
       "      <th>4</th>\n",
       "      <td>1384.28</td>\n",
       "      <td>9.184</td>\n",
       "      <td>150</td>\n",
       "      <td>0.998507</td>\n",
       "      <td>18.963</td>\n",
       "    </tr>\n",
       "    <tr>\n",
       "      <th>...</th>\n",
       "      <td>...</td>\n",
       "      <td>...</td>\n",
       "      <td>...</td>\n",
       "      <td>...</td>\n",
       "      <td>...</td>\n",
       "    </tr>\n",
       "    <tr>\n",
       "      <th>8755</th>\n",
       "      <td>1234.70</td>\n",
       "      <td>8.848</td>\n",
       "      <td>129</td>\n",
       "      <td>0.998604</td>\n",
       "      <td>19.663</td>\n",
       "    </tr>\n",
       "    <tr>\n",
       "      <th>8756</th>\n",
       "      <td>1105.37</td>\n",
       "      <td>8.502</td>\n",
       "      <td>118</td>\n",
       "      <td>1.000090</td>\n",
       "      <td>19.063</td>\n",
       "    </tr>\n",
       "    <tr>\n",
       "      <th>8757</th>\n",
       "      <td>1405.71</td>\n",
       "      <td>9.224</td>\n",
       "      <td>117</td>\n",
       "      <td>0.998408</td>\n",
       "      <td>18.463</td>\n",
       "    </tr>\n",
       "    <tr>\n",
       "      <th>8758</th>\n",
       "      <td>1221.36</td>\n",
       "      <td>8.799</td>\n",
       "      <td>116</td>\n",
       "      <td>0.998013</td>\n",
       "      <td>18.063</td>\n",
       "    </tr>\n",
       "    <tr>\n",
       "      <th>8759</th>\n",
       "      <td>1676.77</td>\n",
       "      <td>9.748</td>\n",
       "      <td>121</td>\n",
       "      <td>1.000380</td>\n",
       "      <td>18.163</td>\n",
       "    </tr>\n",
       "  </tbody>\n",
       "</table>\n",
       "<p>8760 rows × 5 columns</p>\n",
       "</div>"
      ],
      "text/plain": [
       "      System power generated | (kW)  Wind speed | (m/s)  \\\n",
       "0                           1766.64               9.926   \n",
       "1                           1433.83               9.273   \n",
       "2                           1167.23               8.660   \n",
       "3                           1524.59               9.461   \n",
       "4                           1384.28               9.184   \n",
       "...                             ...                 ...   \n",
       "8755                        1234.70               8.848   \n",
       "8756                        1105.37               8.502   \n",
       "8757                        1405.71               9.224   \n",
       "8758                        1221.36               8.799   \n",
       "8759                        1676.77               9.748   \n",
       "\n",
       "      Wind direction | (deg)  Pressure | (atm)  Air temperature | ('C)  \n",
       "0                        128          1.000480                  18.263  \n",
       "1                        135          0.999790                  18.363  \n",
       "2                        142          0.999592                  18.663  \n",
       "3                        148          0.998309                  18.763  \n",
       "4                        150          0.998507                  18.963  \n",
       "...                      ...               ...                     ...  \n",
       "8755                     129          0.998604                  19.663  \n",
       "8756                     118          1.000090                  19.063  \n",
       "8757                     117          0.998408                  18.463  \n",
       "8758                     116          0.998013                  18.063  \n",
       "8759                     121          1.000380                  18.163  \n",
       "\n",
       "[8760 rows x 5 columns]"
      ]
     },
     "execution_count": 6,
     "metadata": {},
     "output_type": "execute_result"
    }
   ],
   "source": [
    "data"
   ]
  },
  {
   "cell_type": "code",
   "execution_count": 7,
   "id": "79529239",
   "metadata": {
    "id": "79529239"
   },
   "outputs": [],
   "source": [
    "df=data.dropna()"
   ]
  },
  {
   "cell_type": "code",
   "execution_count": 8,
   "id": "b931e979",
   "metadata": {
    "colab": {
     "base_uri": "https://localhost:8080/",
     "height": 423
    },
    "id": "b931e979",
    "outputId": "a3cac287-2fcd-4a07-b02c-8e39ee07efd7"
   },
   "outputs": [
    {
     "data": {
      "text/html": [
       "<div>\n",
       "<style scoped>\n",
       "    .dataframe tbody tr th:only-of-type {\n",
       "        vertical-align: middle;\n",
       "    }\n",
       "\n",
       "    .dataframe tbody tr th {\n",
       "        vertical-align: top;\n",
       "    }\n",
       "\n",
       "    .dataframe thead th {\n",
       "        text-align: right;\n",
       "    }\n",
       "</style>\n",
       "<table border=\"1\" class=\"dataframe\">\n",
       "  <thead>\n",
       "    <tr style=\"text-align: right;\">\n",
       "      <th></th>\n",
       "      <th>System power generated | (kW)</th>\n",
       "      <th>Wind speed | (m/s)</th>\n",
       "      <th>Wind direction | (deg)</th>\n",
       "      <th>Pressure | (atm)</th>\n",
       "      <th>Air temperature | ('C)</th>\n",
       "    </tr>\n",
       "  </thead>\n",
       "  <tbody>\n",
       "    <tr>\n",
       "      <th>0</th>\n",
       "      <td>1766.64</td>\n",
       "      <td>9.926</td>\n",
       "      <td>128</td>\n",
       "      <td>1.000480</td>\n",
       "      <td>18.263</td>\n",
       "    </tr>\n",
       "    <tr>\n",
       "      <th>1</th>\n",
       "      <td>1433.83</td>\n",
       "      <td>9.273</td>\n",
       "      <td>135</td>\n",
       "      <td>0.999790</td>\n",
       "      <td>18.363</td>\n",
       "    </tr>\n",
       "    <tr>\n",
       "      <th>2</th>\n",
       "      <td>1167.23</td>\n",
       "      <td>8.660</td>\n",
       "      <td>142</td>\n",
       "      <td>0.999592</td>\n",
       "      <td>18.663</td>\n",
       "    </tr>\n",
       "    <tr>\n",
       "      <th>3</th>\n",
       "      <td>1524.59</td>\n",
       "      <td>9.461</td>\n",
       "      <td>148</td>\n",
       "      <td>0.998309</td>\n",
       "      <td>18.763</td>\n",
       "    </tr>\n",
       "    <tr>\n",
       "      <th>4</th>\n",
       "      <td>1384.28</td>\n",
       "      <td>9.184</td>\n",
       "      <td>150</td>\n",
       "      <td>0.998507</td>\n",
       "      <td>18.963</td>\n",
       "    </tr>\n",
       "    <tr>\n",
       "      <th>...</th>\n",
       "      <td>...</td>\n",
       "      <td>...</td>\n",
       "      <td>...</td>\n",
       "      <td>...</td>\n",
       "      <td>...</td>\n",
       "    </tr>\n",
       "    <tr>\n",
       "      <th>8755</th>\n",
       "      <td>1234.70</td>\n",
       "      <td>8.848</td>\n",
       "      <td>129</td>\n",
       "      <td>0.998604</td>\n",
       "      <td>19.663</td>\n",
       "    </tr>\n",
       "    <tr>\n",
       "      <th>8756</th>\n",
       "      <td>1105.37</td>\n",
       "      <td>8.502</td>\n",
       "      <td>118</td>\n",
       "      <td>1.000090</td>\n",
       "      <td>19.063</td>\n",
       "    </tr>\n",
       "    <tr>\n",
       "      <th>8757</th>\n",
       "      <td>1405.71</td>\n",
       "      <td>9.224</td>\n",
       "      <td>117</td>\n",
       "      <td>0.998408</td>\n",
       "      <td>18.463</td>\n",
       "    </tr>\n",
       "    <tr>\n",
       "      <th>8758</th>\n",
       "      <td>1221.36</td>\n",
       "      <td>8.799</td>\n",
       "      <td>116</td>\n",
       "      <td>0.998013</td>\n",
       "      <td>18.063</td>\n",
       "    </tr>\n",
       "    <tr>\n",
       "      <th>8759</th>\n",
       "      <td>1676.77</td>\n",
       "      <td>9.748</td>\n",
       "      <td>121</td>\n",
       "      <td>1.000380</td>\n",
       "      <td>18.163</td>\n",
       "    </tr>\n",
       "  </tbody>\n",
       "</table>\n",
       "<p>8760 rows × 5 columns</p>\n",
       "</div>"
      ],
      "text/plain": [
       "      System power generated | (kW)  Wind speed | (m/s)  \\\n",
       "0                           1766.64               9.926   \n",
       "1                           1433.83               9.273   \n",
       "2                           1167.23               8.660   \n",
       "3                           1524.59               9.461   \n",
       "4                           1384.28               9.184   \n",
       "...                             ...                 ...   \n",
       "8755                        1234.70               8.848   \n",
       "8756                        1105.37               8.502   \n",
       "8757                        1405.71               9.224   \n",
       "8758                        1221.36               8.799   \n",
       "8759                        1676.77               9.748   \n",
       "\n",
       "      Wind direction | (deg)  Pressure | (atm)  Air temperature | ('C)  \n",
       "0                        128          1.000480                  18.263  \n",
       "1                        135          0.999790                  18.363  \n",
       "2                        142          0.999592                  18.663  \n",
       "3                        148          0.998309                  18.763  \n",
       "4                        150          0.998507                  18.963  \n",
       "...                      ...               ...                     ...  \n",
       "8755                     129          0.998604                  19.663  \n",
       "8756                     118          1.000090                  19.063  \n",
       "8757                     117          0.998408                  18.463  \n",
       "8758                     116          0.998013                  18.063  \n",
       "8759                     121          1.000380                  18.163  \n",
       "\n",
       "[8760 rows x 5 columns]"
      ]
     },
     "execution_count": 8,
     "metadata": {},
     "output_type": "execute_result"
    }
   ],
   "source": [
    "df"
   ]
  },
  {
   "cell_type": "code",
   "execution_count": 9,
   "id": "8414ddf1",
   "metadata": {
    "id": "8414ddf1"
   },
   "outputs": [],
   "source": [
    "df=df.rename({'System power generated | (kW)':'System_power_generated','Wind speed | (m/s)':'Wind_speed',\n",
    "              'Wind direction | (deg)':'Wind_direction','Pressure | (atm)':'Pressure',\n",
    "              \"Air temperature | ('C)\":'Air_temperature'},axis=1)"
   ]
  },
  {
   "cell_type": "code",
   "execution_count": 10,
   "id": "bccf4f8f",
   "metadata": {
    "colab": {
     "base_uri": "https://localhost:8080/"
    },
    "id": "bccf4f8f",
    "outputId": "e5fb8cb7-e79b-49ec-aefb-23e280a395d5"
   },
   "outputs": [
    {
     "data": {
      "text/plain": [
       "Index(['System_power_generated', 'Wind_speed', 'Wind_direction', 'Pressure',\n",
       "       'Air_temperature'],\n",
       "      dtype='object')"
      ]
     },
     "execution_count": 10,
     "metadata": {},
     "output_type": "execute_result"
    }
   ],
   "source": [
    "df.columns"
   ]
  },
  {
   "cell_type": "code",
   "execution_count": 11,
   "id": "e41c8c56",
   "metadata": {
    "id": "e41c8c56"
   },
   "outputs": [],
   "source": [
    "from sklearn.metrics import mean_absolute_error, mean_squared_error, r2_score, explained_variance_score,median_absolute_error"
   ]
  },
  {
   "cell_type": "code",
   "execution_count": 13,
   "id": "f418888d",
   "metadata": {
    "id": "f418888d"
   },
   "outputs": [],
   "source": [
    "from sklearn.model_selection import train_test_split\n",
    "X = df.drop(['System_power_generated'], axis=1).values\n",
    "y = df['System_power_generated'].values\n",
    "X_train, X_test, y_train, y_test = train_test_split(X, y, test_size=0.2,random_state=42)"
   ]
  },
  {
   "cell_type": "code",
   "execution_count": 14,
   "id": "81a7b447",
   "metadata": {
    "id": "81a7b447"
   },
   "outputs": [],
   "source": [
    "X_train = X_train.reshape((X_train.shape[0], X_train.shape[1], 1))\n",
    "X_test = X_test.reshape((X_test.shape[0], X_test.shape[1], 1))"
   ]
  },
  {
   "cell_type": "code",
   "execution_count": 17,
   "id": "87a215e8",
   "metadata": {
    "colab": {
     "base_uri": "https://localhost:8080/"
    },
    "id": "87a215e8",
    "outputId": "8ac8358d-0f8d-477a-a0a5-82ec62bfeffb"
   },
   "outputs": [
    {
     "name": "stdout",
     "output_type": "stream",
     "text": [
      "Epoch 1/50\n",
      "110/110 [==============================] - 2s 5ms/step - loss: 1214137.1250 - val_loss: 930981.5000\n",
      "Epoch 2/50\n",
      "110/110 [==============================] - 0s 3ms/step - loss: 964924.8750 - val_loss: 857455.0000\n",
      "Epoch 3/50\n",
      "110/110 [==============================] - 0s 3ms/step - loss: 876406.1250 - val_loss: 780903.6250\n",
      "Epoch 4/50\n",
      "110/110 [==============================] - 0s 3ms/step - loss: 807714.5000 - val_loss: 751676.1250\n",
      "Epoch 5/50\n",
      "110/110 [==============================] - 0s 3ms/step - loss: 784029.6875 - val_loss: 738197.4375\n",
      "Epoch 6/50\n",
      "110/110 [==============================] - 0s 3ms/step - loss: 770735.2500 - val_loss: 722868.6875\n",
      "Epoch 7/50\n",
      "110/110 [==============================] - 0s 3ms/step - loss: 748590.8125 - val_loss: 699525.6250\n",
      "Epoch 8/50\n",
      "110/110 [==============================] - 0s 3ms/step - loss: 717193.8125 - val_loss: 664553.1250\n",
      "Epoch 9/50\n",
      "110/110 [==============================] - 0s 3ms/step - loss: 678646.0625 - val_loss: 623983.7500\n",
      "Epoch 10/50\n",
      "110/110 [==============================] - 0s 3ms/step - loss: 622945.3125 - val_loss: 560775.0000\n",
      "Epoch 11/50\n",
      "110/110 [==============================] - 0s 3ms/step - loss: 554298.3125 - val_loss: 486749.5938\n",
      "Epoch 12/50\n",
      "110/110 [==============================] - 0s 3ms/step - loss: 472672.8750 - val_loss: 406617.9375\n",
      "Epoch 13/50\n",
      "110/110 [==============================] - 0s 4ms/step - loss: 387042.5312 - val_loss: 329981.0625\n",
      "Epoch 14/50\n",
      "110/110 [==============================] - 0s 3ms/step - loss: 308593.5000 - val_loss: 262066.4062\n",
      "Epoch 15/50\n",
      "110/110 [==============================] - 0s 3ms/step - loss: 249384.2812 - val_loss: 217102.4062\n",
      "Epoch 16/50\n",
      "110/110 [==============================] - 0s 3ms/step - loss: 207978.2812 - val_loss: 184357.2031\n",
      "Epoch 17/50\n",
      "110/110 [==============================] - 0s 3ms/step - loss: 182384.6094 - val_loss: 165547.2188\n",
      "Epoch 18/50\n",
      "110/110 [==============================] - 0s 3ms/step - loss: 167436.3594 - val_loss: 154288.0625\n",
      "Epoch 19/50\n",
      "110/110 [==============================] - 0s 3ms/step - loss: 155999.3281 - val_loss: 143362.4219\n",
      "Epoch 20/50\n",
      "110/110 [==============================] - 0s 3ms/step - loss: 146803.3750 - val_loss: 138520.1250\n",
      "Epoch 21/50\n",
      "110/110 [==============================] - 0s 3ms/step - loss: 139058.4375 - val_loss: 130567.3438\n",
      "Epoch 22/50\n",
      "110/110 [==============================] - 0s 3ms/step - loss: 133952.1719 - val_loss: 125453.8516\n",
      "Epoch 23/50\n",
      "110/110 [==============================] - 0s 3ms/step - loss: 131741.5469 - val_loss: 121791.5859\n",
      "Epoch 24/50\n",
      "110/110 [==============================] - 0s 3ms/step - loss: 125940.3281 - val_loss: 118433.7500\n",
      "Epoch 25/50\n",
      "110/110 [==============================] - 0s 3ms/step - loss: 120487.1484 - val_loss: 111278.1250\n",
      "Epoch 26/50\n",
      "110/110 [==============================] - 0s 3ms/step - loss: 115112.5312 - val_loss: 107685.5156\n",
      "Epoch 27/50\n",
      "110/110 [==============================] - 0s 4ms/step - loss: 111770.3125 - val_loss: 109850.9062\n",
      "Epoch 28/50\n",
      "110/110 [==============================] - 0s 4ms/step - loss: 108463.3516 - val_loss: 102749.6328\n",
      "Epoch 29/50\n",
      "110/110 [==============================] - 0s 3ms/step - loss: 105221.2812 - val_loss: 99576.6094\n",
      "Epoch 30/50\n",
      "110/110 [==============================] - 0s 3ms/step - loss: 101884.1094 - val_loss: 100009.9531\n",
      "Epoch 31/50\n",
      "110/110 [==============================] - 0s 3ms/step - loss: 98616.4453 - val_loss: 91892.3984\n",
      "Epoch 32/50\n",
      "110/110 [==============================] - 0s 3ms/step - loss: 95849.4766 - val_loss: 90653.8594\n",
      "Epoch 33/50\n",
      "110/110 [==============================] - 0s 4ms/step - loss: 93533.8594 - val_loss: 86647.7266\n",
      "Epoch 34/50\n",
      "110/110 [==============================] - 1s 5ms/step - loss: 89896.7031 - val_loss: 84097.3438\n",
      "Epoch 35/50\n",
      "110/110 [==============================] - 0s 4ms/step - loss: 86851.5156 - val_loss: 81203.8594\n",
      "Epoch 36/50\n",
      "110/110 [==============================] - 0s 4ms/step - loss: 85492.7734 - val_loss: 85992.1953\n",
      "Epoch 37/50\n",
      "110/110 [==============================] - 0s 4ms/step - loss: 82618.0312 - val_loss: 77309.2266\n",
      "Epoch 38/50\n",
      "110/110 [==============================] - 0s 4ms/step - loss: 80724.9922 - val_loss: 75528.1953\n",
      "Epoch 39/50\n",
      "110/110 [==============================] - 0s 4ms/step - loss: 78385.9609 - val_loss: 72833.4922\n",
      "Epoch 40/50\n",
      "110/110 [==============================] - 0s 4ms/step - loss: 76305.4922 - val_loss: 71039.4375\n",
      "Epoch 41/50\n",
      "110/110 [==============================] - 0s 4ms/step - loss: 74164.4297 - val_loss: 68014.5781\n",
      "Epoch 42/50\n",
      "110/110 [==============================] - 0s 4ms/step - loss: 72279.1016 - val_loss: 66983.9062\n",
      "Epoch 43/50\n",
      "110/110 [==============================] - 0s 4ms/step - loss: 70272.7109 - val_loss: 65208.8633\n",
      "Epoch 44/50\n",
      "110/110 [==============================] - 0s 3ms/step - loss: 68396.0938 - val_loss: 66149.2266\n",
      "Epoch 45/50\n",
      "110/110 [==============================] - 1s 5ms/step - loss: 67227.6250 - val_loss: 60789.5430\n",
      "Epoch 46/50\n",
      "110/110 [==============================] - 0s 4ms/step - loss: 66295.1797 - val_loss: 58043.8164\n",
      "Epoch 47/50\n",
      "110/110 [==============================] - 0s 4ms/step - loss: 62596.3164 - val_loss: 56352.0742\n",
      "Epoch 48/50\n",
      "110/110 [==============================] - 0s 4ms/step - loss: 61860.8320 - val_loss: 54564.4844\n",
      "Epoch 49/50\n",
      "110/110 [==============================] - 0s 3ms/step - loss: 60340.0234 - val_loss: 53283.7891\n",
      "Epoch 50/50\n",
      "110/110 [==============================] - 0s 4ms/step - loss: 58527.7852 - val_loss: 51681.3672\n",
      "Test Loss: 51681.359\n"
     ]
    }
   ],
   "source": [
    "from keras.models import Sequential\n",
    "from keras.layers import Conv1D, MaxPooling1D, Flatten, Dense\n",
    "# Define CNN model\n",
    "model = Sequential()\n",
    "model.add(Conv1D(filters=64, kernel_size=3, activation='relu', input_shape=(X_train.shape[1], 1)))\n",
    "model.add(MaxPooling1D(pool_size=2))\n",
    "model.add(Flatten())\n",
    "model.add(Dense(100, activation='relu'))\n",
    "model.add(Dense(1))\n",
    "\n",
    "# Compile model\n",
    "model.compile(optimizer='adam', loss='mse')\n",
    "\n",
    "# Train model\n",
    "history = model.fit(X_train, y_train, epochs=50, batch_size=64, validation_data=(X_test, y_test))\n",
    "\n",
    "# Evaluate model\n",
    "loss = model.evaluate(X_test, y_test, verbose=0)\n",
    "print(\"Test Loss: {:.3f}\".format(loss))"
   ]
  },
  {
   "cell_type": "code",
   "execution_count": 18,
   "id": "0b7eb27b",
   "metadata": {
    "id": "0b7eb27b"
   },
   "outputs": [],
   "source": [
    "import pandas as pd"
   ]
  },
  {
   "cell_type": "code",
   "execution_count": 19,
   "id": "db2568ba",
   "metadata": {
    "colab": {
     "base_uri": "https://localhost:8080/",
     "height": 469
    },
    "id": "db2568ba",
    "outputId": "0fc06296-4072-4e9a-97d0-852de0f40b66"
   },
   "outputs": [
    {
     "data": {
      "text/plain": [
       "<Axes: title={'center': 'Cross-entropy'}>"
      ]
     },
     "execution_count": 19,
     "metadata": {},
     "output_type": "execute_result"
    },
    {
     "data": {
      "image/png": "[encoded data removed]",
      "text/plain": [
       "<Figure size 640x480 with 1 Axes>"
      ]
     },
     "metadata": {},
     "output_type": "display_data"
    }
   ],
   "source": [
    "history_df = pd.DataFrame(history.history)\n",
    "history_df.loc[:, ['loss', 'val_loss']].plot(title=\"Cross-entropy\")"
   ]
  },
  {
   "cell_type": "code",
   "execution_count": 22,
   "id": "c84a0df8",
   "metadata": {
    "colab": {
     "base_uri": "https://localhost:8080/",
     "height": 972
    },
    "id": "c84a0df8",
    "outputId": "4f395b99-347e-453b-e334-86df6ae4f643"
   },
   "outputs": [
    {
     "data": {
      "image/png": "[encoded data removed]",
      "text/plain": [
       "<Figure size 785.861x700 with 1 Axes>"
      ]
     },
     "metadata": {},
     "output_type": "display_data"
    }
   ],
   "source": [
    "corr = df.corr().stack().reset_index(name=\"correlation\")\n",
    "g = sns.relplot(\n",
    "    data=corr,\n",
    "    x=\"level_0\", y=\"level_1\", hue=\"correlation\", size=\"correlation\",\n",
    "    palette=\"vlag\", hue_norm=(-1, 1), edgecolor=\".7\",\n",
    "    height=7, sizes=(50, 250), size_norm=(-.2, .8))\n",
    "g.set(xlabel=\"\", ylabel=\"\", aspect=\"equal\")\n",
    "g.despine(left=True, bottom=True)\n",
    "g.ax.margins(.02)\n",
    "for label in g.ax.get_xticklabels():\n",
    "    label.set_rotation(90)\n",
    "for artist in g.legend.legendHandles:\n",
    "    artist.set_edgecolor(\".7\")"
   ]
  },
  {
   "cell_type": "code",
   "execution_count": null,
   "id": "wC3dRDbFf7vv",
   "metadata": {
    "id": "wC3dRDbFf7vv"
   },
   "outputs": [],
   "source": []
  }
 ],
 "metadata": {
  "colab": {
   "provenance": []
  },
  "kernelspec": {
   "display_name": "Python 3 (ipykernel)",
   "language": "python",
   "name": "python3"
  },
  "language_info": {
   "codemirror_mode": {
    "name": "ipython",
    "version": 3
   },
   "file_extension": ".py",
   "mimetype": "text/x-python",
   "name": "python",
   "nbconvert_exporter": "python",
   "pygments_lexer": "ipython3",
   "version": "3.10.9"
  }
 },
 "nbformat": 4,
 "nbformat_minor": 5
}
